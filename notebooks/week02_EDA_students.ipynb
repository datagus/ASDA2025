{
 "cells": [
  {
   "cell_type": "markdown",
   "id": "12b4e182-3386-4783-aed7-0bf26efc468a",
   "metadata": {},
   "source": [
    "# Exploratory Data Analysis with Python\n",
    "<div style=\"\n",
    "    border: 5px solid purple;\n",
    "    border-radius: 8px;\n",
    "    padding: 0px;\n",
    "    margin: 10px 0;\n",
    "    background-color: inherit;\n",
    "    color: inherit;\n",
    "\">\n",
    "</div>"
   ]
  },
  {
   "cell_type": "code",
   "execution_count": null,
   "id": "79b4a415-a44a-4016-a448-4bafd6d880b0",
   "metadata": {},
   "outputs": [],
   "source": [
    "import pandas as pd"
   ]
  },
  {
   "cell_type": "markdown",
   "id": "e0a16d3b-02eb-4b1c-89c7-d730f8e533f6",
   "metadata": {},
   "source": [
    "<div style=\"\n",
    "    border: 3px solid purple;\n",
    "    border-radius: 8px;\n",
    "    padding: 12px;\n",
    "    margin: 10px 0;\n",
    "    background-color: inherit;\n",
    "    color: inherit;\n",
    "\">\n",
    "     Your job is to makes sense of any dataset given and give a preliminary report.\n",
    "    <ul>\n",
    "      <li>What is the structure of the data?</li>\n",
    "      <li>How clean is the dataset?</li>\n",
    "      <li>Does it look real or was machine generated?</li>\n",
    "      <li>Is it worth it to further analyse it?</li>\n",
    "      <li>Are there some  interesting insights that can be pulled already?</li>\n",
    "    </ul>\n",
    "</div>"
   ]
  },
  {
   "cell_type": "markdown",
   "id": "81c5b54d-cf99-461e-8c7e-95131f675780",
   "metadata": {},
   "source": [
    "## The basics - Understanding a dataframe\n",
    "<div style=\"\n",
    "    border: 4px solid orange;\n",
    "    border-radius: 8px;\n",
    "    padding: 0px;\n",
    "    margin: 10px 0;\n",
    "    background-color: inherit;\n",
    "    color: inherit;\n",
    "\">\n",
    "</div>"
   ]
  },
  {
   "cell_type": "markdown",
   "id": "75788af7-b623-413d-8fc6-d6ceb69c42ff",
   "metadata": {},
   "source": [
    "<div style=\"\n",
    "    border: 3px solid orange;\n",
    "    border-radius: 8px;\n",
    "    padding: 12px;\n",
    "    margin: 10px 0;\n",
    "    background-color: inherit;\n",
    "    color: inherit;\n",
    "\">\n",
    "A dataframe is a \"size-mutable, potentially heterogeneous tabular data. Data structure also contains labeled axes (rows and columns). Arithmetic operations align on both row and column labels. Can be thought of as a dict-like container for Series objects. The primary pandas data structure.\"\n",
    "Source: https://pandas.pydata.org/docs/reference/api/pandas.DataFrame.html\n",
    "</div>"
   ]
  },
  {
   "cell_type": "markdown",
   "id": "b617f12b-f5cf-4930-98f2-c1a281bc6dae",
   "metadata": {},
   "source": [
    "### Building a dataframe from a dictionary\n",
    "<div style=\"\n",
    "    border: 2px solid orange;\n",
    "    border-radius: 8px;\n",
    "    padding: 0px;\n",
    "    margin: 10px 0;\n",
    "    background-color: inherit;\n",
    "    color: inherit;\n",
    "\">\n",
    "</div>"
   ]
  },
  {
   "cell_type": "code",
   "execution_count": null,
   "id": "1fff9a43-3722-46f7-b149-8c24adcfdb2b",
   "metadata": {},
   "outputs": [],
   "source": [
    "mydict = {\n",
    "    \"names\": [\"Gustavo\", \"Henrik\", \"Wanja\", \"Carlo\", \"Jannik\"],\n",
    "    \"scores\": [39, 34, 40, 49, 10],\n",
    "    \"fav_food\": [\"tacos\", \"pasta\", \"cake\", \"döner\", \"ice cream\"]\n",
    "}"
   ]
  },
  {
   "cell_type": "code",
   "execution_count": null,
   "id": "e8095bf4-978e-4780-8a7c-afbfff63b115",
   "metadata": {},
   "outputs": [],
   "source": [
    "#pandas library\n",
    "df = pd.DataFrame(mydict)"
   ]
  },
  {
   "cell_type": "markdown",
   "id": "cee1c47e-feca-4578-b94b-93b38e31766e",
   "metadata": {},
   "source": [
    "### Importing data\n",
    "<div style=\"\n",
    "    border: 2px solid orange;\n",
    "    border-radius: 8px;\n",
    "    padding: 0px;\n",
    "    margin: 10px 0;\n",
    "    background-color: inherit;\n",
    "    color: inherit;\n",
    "\">\n",
    "</div>"
   ]
  },
  {
   "cell_type": "code",
   "execution_count": null,
   "id": "0f5f0367-a0b1-4df1-92b5-76477f6a8b0f",
   "metadata": {},
   "outputs": [],
   "source": [
    "#from a csv file\n",
    "df = pd.read_csv(\"datasets/socialmedia_engagement.csv\")"
   ]
  },
  {
   "cell_type": "code",
   "execution_count": null,
   "id": "7378258d-8604-4508-84fa-f3cf81833707",
   "metadata": {},
   "outputs": [],
   "source": [
    "#from an excel file --- need to install openpyxl dependency\n",
    "df = pd.read_excel(\"datasets/happiness_2015-2019.xlsx\")"
   ]
  },
  {
   "cell_type": "code",
   "execution_count": null,
   "id": "3553c54c-b5a1-4a29-9548-547a77188c45",
   "metadata": {},
   "outputs": [],
   "source": [
    "#from github\n",
    "username = \"datagus\"\n",
    "repository = \"statstutorial2025\"\n",
    "directory = \"week5/airbnb_europe.csv\"\n",
    "github_url = f\"https://raw.githubusercontent.com/{username}/{repository}/main/{directory}\"\n",
    "df = pd.read_csv(github_url)"
   ]
  },
  {
   "cell_type": "code",
   "execution_count": null,
   "id": "a6897100-47cb-4585-94f2-efbdd09cf451",
   "metadata": {
    "scrolled": true
   },
   "outputs": [],
   "source": [
    "#from a google spreadsheet\n",
    "gsheet_id = \"1wEGvOk504_wnFlv1D9Dw8IFIAaDMtwau\"\n",
    "url = f\"https://docs.google.com/spreadsheets/d/{gsheet_id}/export?format=xlsx\"\n",
    "excel = pd.ExcelFile(url)\n",
    "df = excel.parse(\"master table\")"
   ]
  },
  {
   "cell_type": "markdown",
   "id": "496864d1-eb71-42ef-8c43-55dba35c5a60",
   "metadata": {},
   "source": [
    "### Inspecting the structure of a dataframe\n",
    "<div style=\"\n",
    "    border: 2px solid orange;\n",
    "    border-radius: 8px;\n",
    "    padding: 0px;\n",
    "    margin: 10px 0;\n",
    "    background-color: inherit;\n",
    "    color: inherit;\n",
    "\">\n",
    "</div>"
   ]
  },
  {
   "cell_type": "code",
   "execution_count": null,
   "id": "6805ab7f-3396-45b5-9943-669d06995f31",
   "metadata": {},
   "outputs": [],
   "source": [
    "#how many columns and rows\n"
   ]
  },
  {
   "cell_type": "code",
   "execution_count": null,
   "id": "1d5043f3-19af-4364-9ba5-69eeb882309c",
   "metadata": {},
   "outputs": [],
   "source": [
    "#retriving them separately and printing the number of columns and rows\n"
   ]
  },
  {
   "cell_type": "code",
   "execution_count": null,
   "id": "85cc4a11-d4af-43b9-b27c-a07ac420099f",
   "metadata": {},
   "outputs": [],
   "source": [
    "#another way to getting the number of rows, using len()\n"
   ]
  },
  {
   "cell_type": "code",
   "execution_count": null,
   "id": "cab1dec6-f78b-416d-afd2-6850cd4c95f8",
   "metadata": {},
   "outputs": [],
   "source": [
    "#a more detailed overview, an information overview\n"
   ]
  },
  {
   "cell_type": "code",
   "execution_count": null,
   "id": "a09a96ae-eebc-4de9-8d1a-f657acc0b7f9",
   "metadata": {},
   "outputs": [],
   "source": [
    "pd.set_option('display.max_columns', None) # to show all columns\n",
    "#pd.reset_option('display.max_columns')\n",
    "#checking the first 5 rows\n"
   ]
  },
  {
   "cell_type": "code",
   "execution_count": null,
   "id": "15a4792b-6127-49b9-96f9-03d7634be3a7",
   "metadata": {},
   "outputs": [],
   "source": [
    "#checking the last 5 rows\n"
   ]
  },
  {
   "cell_type": "code",
   "execution_count": null,
   "id": "c310115c-999e-49ce-8ca5-f8d97858efd3",
   "metadata": {},
   "outputs": [],
   "source": [
    "#checking a random slice of the dataframe\n"
   ]
  },
  {
   "cell_type": "code",
   "execution_count": null,
   "id": "fa1951db-deac-4d14-844d-6157265eb4d6",
   "metadata": {},
   "outputs": [],
   "source": [
    "#checking the columns names\n"
   ]
  },
  {
   "cell_type": "code",
   "execution_count": null,
   "id": "3e4c29ec-9506-4f6e-89f2-889bcb04e5f8",
   "metadata": {},
   "outputs": [],
   "source": [
    "#getting the index"
   ]
  },
  {
   "cell_type": "code",
   "execution_count": null,
   "id": "0e53d550-7273-4c9f-addb-cdd6c3f00378",
   "metadata": {},
   "outputs": [],
   "source": [
    "#getting some descriptive statistics for numeric\n"
   ]
  },
  {
   "cell_type": "code",
   "execution_count": null,
   "id": "f335788d-4c79-4765-b307-550f20bc758f",
   "metadata": {},
   "outputs": [],
   "source": [
    "#getting some descriptive statistics for categories or object data types\n"
   ]
  },
  {
   "cell_type": "markdown",
   "id": "d236c3f7-bdf7-424b-8a29-6a4fe0658419",
   "metadata": {},
   "source": [
    "### Quality of the dataframe\n",
    "<div style=\"\n",
    "    border: 2px solid orange;\n",
    "    border-radius: 8px;\n",
    "    padding: 0px;\n",
    "    margin: 10px 0;\n",
    "    background-color: inherit;\n",
    "    color: inherit;\n",
    "\">\n",
    "</div>"
   ]
  },
  {
   "cell_type": "code",
   "execution_count": null,
   "id": "378356bf-0194-493d-b70f-b8cc97be2157",
   "metadata": {},
   "outputs": [],
   "source": [
    "#checking duplicates in the dataframe\n"
   ]
  },
  {
   "cell_type": "code",
   "execution_count": null,
   "id": "af8e1b60-d322-49a7-b8ed-631904ec9d30",
   "metadata": {
    "editable": true,
    "slideshow": {
     "slide_type": ""
    },
    "tags": []
   },
   "outputs": [],
   "source": [
    "#how many missing values\n"
   ]
  },
  {
   "cell_type": "code",
   "execution_count": null,
   "id": "aa27e1ac-5ffd-4ba2-a083-2c708518cdf1",
   "metadata": {},
   "outputs": [],
   "source": [
    "#checking the datatypes\n"
   ]
  },
  {
   "cell_type": "code",
   "execution_count": null,
   "id": "f1020961-aa96-4cf2-be5d-6d5e91e81321",
   "metadata": {},
   "outputs": [],
   "source": [
    "#which SDGs do we have?\n"
   ]
  },
  {
   "cell_type": "code",
   "execution_count": null,
   "id": "91f7458f-936d-4ece-b81b-06f55e65010a",
   "metadata": {},
   "outputs": [],
   "source": [
    "#how many SDGs do we have?\n"
   ]
  },
  {
   "cell_type": "code",
   "execution_count": null,
   "id": "411ceef9-63be-44b2-a02b-fb4e3978649b",
   "metadata": {},
   "outputs": [],
   "source": [
    "#getting a contingency table of SDGs\n"
   ]
  },
  {
   "cell_type": "code",
   "execution_count": null,
   "id": "5b77654b-4f08-47a8-981c-a40a8c169706",
   "metadata": {},
   "outputs": [],
   "source": [
    "#getting a contingency table of SDGs\n"
   ]
  },
  {
   "cell_type": "code",
   "execution_count": null,
   "id": "fc22722e-fa86-430a-b4bc-4087b50eef7e",
   "metadata": {},
   "outputs": [],
   "source": [
    "#another variable to check?\n"
   ]
  },
  {
   "cell_type": "code",
   "execution_count": null,
   "id": "59d2884c-624d-4041-8149-e7607d9f3cf3",
   "metadata": {},
   "outputs": [],
   "source": [
    "#saving a contigengy table into a variable for \"location of the study\"\n"
   ]
  },
  {
   "cell_type": "code",
   "execution_count": null,
   "id": "0c8270ee-46ee-4687-82bc-b77a45a84d90",
   "metadata": {},
   "outputs": [],
   "source": [
    "#converting the object into a Data Frame\n"
   ]
  },
  {
   "cell_type": "code",
   "execution_count": null,
   "id": "ea4e0024-e0fc-485b-ab80-0270cda958b1",
   "metadata": {},
   "outputs": [],
   "source": [
    "#reseting the index\n"
   ]
  },
  {
   "cell_type": "markdown",
   "id": "ffabde7b-dce0-4a18-aae2-8e11f1b2098e",
   "metadata": {},
   "source": [
    "## Dataframe Operations\n",
    "<div style=\"\n",
    "    border: 4px solid green;\n",
    "    border-radius: 8px;\n",
    "    padding: 0px;\n",
    "    margin: 10px 0;\n",
    "    background-color: inherit;\n",
    "    color: inherit;\n",
    "\">\n",
    "</div>"
   ]
  },
  {
   "cell_type": "markdown",
   "id": "260a659c-fb43-4e31-af92-3e8387357436",
   "metadata": {},
   "source": [
    "### Modifying the index\n",
    "<div style=\"\n",
    "    border: 2px solid green;\n",
    "    border-radius: 8px;\n",
    "    padding: 0px;\n",
    "    margin: 10px 0;\n",
    "    background-color: inherit;\n",
    "    color: inherit;\n",
    "\">\n",
    "</div>"
   ]
  },
  {
   "cell_type": "code",
   "execution_count": null,
   "id": "c637bb64-0007-4fc1-b939-5650ef0c7f27",
   "metadata": {},
   "outputs": [],
   "source": [
    "#making a copy of your dataset. Recommended especially if you are modifying the original df\n",
    "copy_df = df.copy()"
   ]
  },
  {
   "cell_type": "code",
   "execution_count": null,
   "id": "0316482f-99c8-49d1-a98d-26fe504a5f69",
   "metadata": {},
   "outputs": [],
   "source": [
    "# putting a custom index, for example that \n",
    "#for example, starting from 100, you need to make sure, your index fits the lenght of rows\n"
   ]
  },
  {
   "cell_type": "code",
   "execution_count": null,
   "id": "b1c65c9d-486d-4f8a-bcf2-32ede04b4c91",
   "metadata": {},
   "outputs": [],
   "source": [
    "# if you want to reset the index\n"
   ]
  },
  {
   "cell_type": "markdown",
   "id": "28777180-dbcc-4b2a-b1bb-c83820d1efc5",
   "metadata": {},
   "source": [
    "### Dropping row and columns and renaming them\n",
    "<div style=\"\n",
    "    border: 2px solid green;\n",
    "    border-radius: 8px;\n",
    "    padding: 0px;\n",
    "    margin: 10px 0;\n",
    "    background-color: inherit;\n",
    "    color: inherit;\n",
    "\">\n",
    "</div>"
   ]
  },
  {
   "cell_type": "code",
   "execution_count": null,
   "id": "f6fee96b-ecc6-49c7-94f1-f9b4d78d884a",
   "metadata": {},
   "outputs": [],
   "source": [
    "#let's delete some columns, for example the first column\n"
   ]
  },
  {
   "cell_type": "code",
   "execution_count": null,
   "id": "6a9e5f66-1b89-41c3-880c-8c67d567bde5",
   "metadata": {},
   "outputs": [],
   "source": [
    "# if you want to delete some columns by their positions\n"
   ]
  },
  {
   "cell_type": "code",
   "execution_count": null,
   "id": "642bca80-6629-47c1-be86-3e927bef223e",
   "metadata": {},
   "outputs": [],
   "source": [
    "# if you want to drop several columns\n"
   ]
  },
  {
   "cell_type": "code",
   "execution_count": null,
   "id": "84c5cfef-7ca2-40b9-9854-ccef3c6b1fad",
   "metadata": {},
   "outputs": [],
   "source": [
    "#checking duplicated rows based on a column, for example EID\n"
   ]
  },
  {
   "cell_type": "code",
   "execution_count": null,
   "id": "d068a272-48eb-4ea0-bb17-8d3fef73842a",
   "metadata": {},
   "outputs": [],
   "source": [
    "#which are those duplicated in EID column\n"
   ]
  },
  {
   "cell_type": "code",
   "execution_count": null,
   "id": "d9ad611f-c9b4-47c4-b786-5c5651e7b8ce",
   "metadata": {},
   "outputs": [],
   "source": [
    "# dropping duplicates but from an specific column\n"
   ]
  },
  {
   "cell_type": "code",
   "execution_count": null,
   "id": "6c39fc82-6b2d-4055-aaad-2d0ba4ea693f",
   "metadata": {},
   "outputs": [],
   "source": [
    "# checking missing values from the abstract column\n"
   ]
  },
  {
   "cell_type": "code",
   "execution_count": null,
   "id": "434c2586-0f58-4e2c-9f51-657dc5682484",
   "metadata": {},
   "outputs": [],
   "source": [
    "# dropping missing values from the abstract column\n"
   ]
  },
  {
   "cell_type": "code",
   "execution_count": null,
   "id": "2d715077-f75b-4a5c-9ba7-4bfb9e7bab5a",
   "metadata": {},
   "outputs": [],
   "source": [
    "#renaming columns\n"
   ]
  },
  {
   "cell_type": "code",
   "execution_count": null,
   "id": "58556c97-cd32-4278-9fd3-64e7dc369acd",
   "metadata": {},
   "outputs": [],
   "source": [
    "#you can also rename the column based on the position\n"
   ]
  },
  {
   "cell_type": "code",
   "execution_count": null,
   "id": "d27c81b4-47c3-4eac-beb0-ae77007c8d53",
   "metadata": {},
   "outputs": [],
   "source": [
    "#you can rename several columns at once\n"
   ]
  },
  {
   "cell_type": "markdown",
   "id": "8c94108f-b853-4b96-9a4b-0cea18645f3f",
   "metadata": {},
   "source": [
    "## Index and Slicing\n",
    "<div style=\"\n",
    "    border: 4px solid blue;\n",
    "    border-radius: 8px;\n",
    "    padding: 0px;\n",
    "    margin: 10px 0;\n",
    "    background-color: inherit;\n",
    "    color: inherit;\n",
    "\">\n",
    "</div>"
   ]
  },
  {
   "cell_type": "code",
   "execution_count": null,
   "id": "a163d230-7305-4350-9a08-b8899e7cafec",
   "metadata": {},
   "outputs": [],
   "source": [
    "#selecting a column\n"
   ]
  },
  {
   "cell_type": "code",
   "execution_count": null,
   "id": "075a62e7-d442-40ce-9c89-f215058c97ed",
   "metadata": {},
   "outputs": [],
   "source": [
    "#use double square brackets to be shown with df format\n"
   ]
  },
  {
   "cell_type": "code",
   "execution_count": null,
   "id": "dfeb1325-1e6d-4b34-9c66-12e14db0da07",
   "metadata": {},
   "outputs": [],
   "source": [
    "#selecting rows by index position\n"
   ]
  },
  {
   "cell_type": "code",
   "execution_count": null,
   "id": "8f55ce4a-8ed6-4a8b-966c-6b6b33643710",
   "metadata": {},
   "outputs": [],
   "source": [
    "# or use double square brackets\n"
   ]
  },
  {
   "cell_type": "code",
   "execution_count": null,
   "id": "ed55db13-af6a-49f9-a3ec-a689081c6bb0",
   "metadata": {},
   "outputs": [],
   "source": [
    "#selecting the first 20 rows with all columns\n"
   ]
  },
  {
   "cell_type": "code",
   "execution_count": null,
   "id": "88f00f1f-32c7-423a-9945-c68bcac82adb",
   "metadata": {},
   "outputs": [],
   "source": [
    "#selecting the first 10 rows with the first five columns\n"
   ]
  },
  {
   "cell_type": "code",
   "execution_count": null,
   "id": "48aed964-f331-4aab-807a-eb462da3663f",
   "metadata": {},
   "outputs": [],
   "source": [
    "#select the last 10 rows with the columns 3 to 8\n"
   ]
  },
  {
   "cell_type": "code",
   "execution_count": null,
   "id": "daa6237a-cd00-4106-914f-1413575eb1b0",
   "metadata": {},
   "outputs": [],
   "source": [
    "#selecting rows by label and index\n"
   ]
  },
  {
   "cell_type": "code",
   "execution_count": null,
   "id": "8ce7b552-df40-4d74-9edc-f75ff0f99dd8",
   "metadata": {},
   "outputs": [],
   "source": [
    "# conditional selection, for example all articles with more than 40 citations\n"
   ]
  },
  {
   "cell_type": "code",
   "execution_count": null,
   "id": "641fe794-d878-4a82-af42-36a6064e6aa4",
   "metadata": {},
   "outputs": [],
   "source": [
    "# transforming SDG column to object\n"
   ]
  },
  {
   "cell_type": "code",
   "execution_count": null,
   "id": "45cc770c-c75a-46bb-9b57-d5fa06a16848",
   "metadata": {},
   "outputs": [],
   "source": [
    "# selecting only articles from SDG 10 and 5"
   ]
  },
  {
   "cell_type": "markdown",
   "id": "dd3a9256-9c7f-4089-bbde-0b8024e6f546",
   "metadata": {},
   "source": [
    "## Exercise\n",
    "Explore the following dataset: datasets/socialmedia_engagement\n",
    "\n",
    "Does it look real or machine generated?\n",
    "<div style=\"\n",
    "    border: 4px solid red;\n",
    "    border-radius: 8px;\n",
    "    padding: 0px;\n",
    "    margin: 10px 0;\n",
    "    background-color: inherit;\n",
    "    color: inherit;\n",
    "\">\n",
    "</div>"
   ]
  },
  {
   "cell_type": "code",
   "execution_count": null,
   "id": "5f8cee34-a629-4f8f-986c-c8bd27130003",
   "metadata": {},
   "outputs": [],
   "source": []
  }
 ],
 "metadata": {
  "kernelspec": {
   "display_name": "ASDA205",
   "language": "python",
   "name": "asda205"
  },
  "language_info": {
   "codemirror_mode": {
    "name": "ipython",
    "version": 3
   },
   "file_extension": ".py",
   "mimetype": "text/x-python",
   "name": "python",
   "nbconvert_exporter": "python",
   "pygments_lexer": "ipython3",
   "version": "3.14.0"
  }
 },
 "nbformat": 4,
 "nbformat_minor": 5
}
